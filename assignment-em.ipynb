{
 "cells": [
  {
   "cell_type": "code",
   "execution_count": 1,
   "metadata": {
    "collapsed": true
   },
   "outputs": [],
   "source": [
    "from nltk.corpus import brown\n",
    "from nltk import ngrams\n",
    "from nltk import FreqDist\n",
    "import numpy as np\n",
    "from collections import Counter"
   ]
  },
  {
   "cell_type": "code",
   "execution_count": 47,
   "metadata": {
    "collapsed": true
   },
   "outputs": [],
   "source": [
    "class BrownDataset(object):\n",
    "    def __init__(self, include_start=True):\n",
    "        self.words = brown.words()\n",
    "        self.words = map(lambda x: x.lower(), self.words)\n",
    "        self.total_word_cnt = len(self.words) + 2 * len(brown.sents())  # include START and END\n",
    "        if include_start:\n",
    "            self.words.append(u'START')\n",
    "        self.words.append(u'END')\n",
    "        self.vocab = set(self.words)\n",
    "\n",
    "\n",
    "        self.vocab_len = len(self.vocab)\n",
    "        self.word_to_idx = dict(zip(list(self.vocab), range(self.vocab_len)))\n",
    "\n",
    "        self.sentences = []\n",
    "        self.bigrams = []\n",
    "        self.unigrams = []\n",
    "        for sent in brown.sents():\n",
    "            sentence = map(lambda x: x.lower(), sent)\n",
    "            if include_start:\n",
    "                sentence.insert(0, u'START')\n",
    "            sentence.append(u'END')\n",
    "            self.sentences.append(sentence)\n",
    "            self.bigrams.extend(list(ngrams(sentence, 2)))\n",
    "            self.unigrams.extend(sentence)\n",
    "\n",
    "        self.unigram_freq = dict(Counter(self.unigrams))\n",
    "\n",
    "        self.num_sentences = len(self.sentences)\n",
    "        self.bigram_cnt = FreqDist(self.bigrams)\n",
    "        self.bigram_len = len(self.bigram_cnt)\n",
    "        self.bigram_idx = dict(zip(self.bigram_cnt.keys(), range(self.bigram_len)))\n",
    "        self.bigram_freq = np.asarray(self.bigram_cnt.values())\n",
    "        self.num_bigrams = len(self.bigram_cnt)"
   ]
  },
  {
   "cell_type": "code",
   "execution_count": 2,
   "metadata": {
    "collapsed": true
   },
   "outputs": [],
   "source": [
    "from __future__ import division\n",
    "import numpy as np\n",
    "import math\n"
   ]
  },
  {
   "cell_type": "code",
   "execution_count": 119,
   "metadata": {
    "collapsed": true
   },
   "outputs": [],
   "source": [
    "class LatentBigramModel:\n",
    "    def __init__(self, dataset, num_classes=3, num_iterations=20, debug=False):\n",
    "        self.dataset = dataset\n",
    "        self.K = num_classes\n",
    "        self.posterior = np.random.random(size=(dataset.num_bigrams, self.K))  # N x K\n",
    "        self.w_to_hs_transition_prob = np.random.random(size=(dataset.vocab_len, self.K))  # V x K\n",
    "        self.hs_to_w_emission_prob = np.random.random(size=(self.K, self.dataset.vocab_len))  # K x V\n",
    "        self.iterations = num_iterations\n",
    "        self.debug = debug\n",
    "\n",
    "\n",
    "    def prob_word_given_ctxt(self, wprev, wnext):\n",
    "        save = (wprev, wnext)\n",
    "        wprev = self.dataset.word_to_idx[wprev]\n",
    "        wnext = self.dataset.word_to_idx[wnext]\n",
    "        ret = np.sum(self.w_to_hs_transition_prob[wprev] * self.hs_to_w_emission_prob[:, wnext])\n",
    "        assert ret != 0, (save, self.w_to_hs_transition_prob[wprev], self.hs_to_w_emission_prob[:, wnext])\n",
    "        return ret\n",
    "\n",
    "    def log_prob_sentence(self, sentence):\n",
    "        # Assuming START and END are included\n",
    "        log_p = 0\n",
    "        for i in range(len(sentence) - 1):\n",
    "            log_p += math.log(self.prob_word_given_ctxt(sentence[i], sentence[i+1]))\n",
    "        return log_p\n",
    "\n",
    "    def prob_sentence(self, sentence):\n",
    "        # Assuming START and END are included\n",
    "        pr = 1\n",
    "        for i in range(len(sentence) - 1):\n",
    "            pr *= self.prob_word_given_ctxt(sentence[i], sentence[i + 1])\n",
    "        return pr\n",
    "\n",
    "    def marginal_log_likelihood(self):\n",
    "        ll = 0\n",
    "        for sentence in self.dataset.sentences:\n",
    "            ll += self.log_prob_sentence(sentence)\n",
    "        return ll/self.dataset.total_word_cnt\n",
    "\n",
    "    def e_step(self):\n",
    "        for bigram, freq in self.dataset.bigram_cnt.iteritems():\n",
    "            wprev = self.dataset.word_to_idx[bigram[0]]\n",
    "            wnext = self.dataset.word_to_idx[bigram[1]]\n",
    "            unnorm_posterior_prob = self.w_to_hs_transition_prob[wprev] * self.hs_to_w_emission_prob[:, wnext]\n",
    "            self.posterior[dataset.bigram_idx[bigram]] = unnorm_posterior_prob / np.sum(unnorm_posterior_prob)\n",
    "\n",
    "    def m_step(self):\n",
    "        cnt_category_bigram = self.posterior * self.dataset.bigram_freq[:, None]  # N x K\n",
    "        idx = 0\n",
    "        self.w_to_hs_transition_prob.fill(0)  # causes error for 'END' as it doesn't appear as first word in any bigram.\n",
    "        self.w_to_hs_transition_prob[dataset.word_to_idx[u'END']].fill(1)\n",
    "        self.hs_to_w_emission_prob.fill(0)  # causes error for 'START' as it doesn't apprear as second word in any bigram\n",
    "        self.hs_to_w_emission_prob[:, self.dataset.word_to_idx[u'START']].fill(1)\n",
    "        for bigram, freq in self.dataset.bigram_cnt.iteritems():\n",
    "            wprev = self.dataset.word_to_idx[bigram[0]]\n",
    "            self.w_to_hs_transition_prob[wprev] += cnt_category_bigram[idx]\n",
    "            wnext = self.dataset.word_to_idx[bigram[1]]\n",
    "            self.hs_to_w_emission_prob[:, wnext] += cnt_category_bigram[idx]\n",
    "            idx += 1\n",
    "\n",
    "        self.w_to_hs_transition_prob /= np.sum(self.w_to_hs_transition_prob, axis=1).reshape(-1, 1)\n",
    "        self.hs_to_w_emission_prob /= np.sum(self.hs_to_w_emission_prob, axis=1).reshape(-1, 1)\n",
    "\n",
    "        if self.debug:\n",
    "            assert np.sum(np.abs(np.sum(cnt_category_bigram, axis=1) - self.dataset.bigram_freq)) < 1e-8, \"Error\"\n",
    "            assert np.sum(np.abs(np.sum(self.w_to_hs_transition_prob, axis=1) - np.ones(dataset.vocab_len))) < 1e-8, \"Error\"\n",
    "            assert np.sum(np.abs(np.sum(self.hs_to_w_emission_prob, axis=1) - np.ones(self.K))) < 1e-8, \"Error\"\n",
    "\n",
    "    def em(self):\n",
    "        mlls = []\n",
    "        for iter in range(self.iterations):\n",
    "            # E-step\n",
    "            self.e_step()\n",
    "            # M-step\n",
    "            self.m_step()\n",
    "            \n",
    "            #Verification\n",
    "            if self.debug:\n",
    "                mll = self.marginal_log_likelihood()\n",
    "                mlls.append(mll)\n",
    "                print \"iteration = \", iter, mll\n",
    "        return mlls"
   ]
  },
  {
   "cell_type": "code",
   "execution_count": 4,
   "metadata": {},
   "outputs": [
    {
     "name": "stdout",
     "output_type": "stream",
     "text": [
      "0 -0.397333980879\n",
      "1 -6.52760231253\n",
      "2 -6.49527196392\n",
      "3 -6.45182927472\n",
      "4 -6.39742714143\n",
      "5 -6.34195682231\n",
      "6 -6.29027978256\n",
      "7 -6.24344570424\n",
      "8 -6.20520692249\n",
      "9 -6.1763753736\n",
      "10 -6.15481328368\n",
      "11 -6.13774688504\n",
      "12 -6.12309511681\n",
      "13 -6.10986052065\n",
      "14 -6.09787107302\n",
      "15 -6.08756595062\n",
      "16 -6.07920035222\n",
      "17 -6.07264628403\n",
      "18 -6.06752601896\n",
      "19 -6.06293356301\n"
     ]
    }
   ],
   "source": [
    "dataset = BrownDataset()\n",
    "latent_model = LatentBigramModel(dataset, num_classes=3, num_iterations=20, debug=True)\n",
    "latent_model.em()"
   ]
  },
  {
   "cell_type": "code",
   "execution_count": 130,
   "metadata": {},
   "outputs": [
    {
     "name": "stdout",
     "output_type": "stream",
     "text": [
      "6.05402072987e-06\n",
      "0.000135589662616\n",
      "0.000154592749699\n",
      "7.3190067849e-06\n",
      "2.08912893344e-05\n",
      "1.16473248643e-11\n",
      "3.86501485969e-07\n",
      "7.1645210646e-06\n",
      "6.60847529815e-06\n",
      "8.1359630809e-06\n",
      "5.37773272324e-08\n",
      "0.093059452074\n",
      "0.0\n",
      "0.0\n",
      "nan\n"
     ]
    },
    {
     "name": "stderr",
     "output_type": "stream",
     "text": [
      "/home/gauravanand25/miniconda3/envs/py2/lib/python2.7/site-packages/ipykernel_launcher.py:5: RuntimeWarning: invalid value encountered in double_scalars\n",
      "  \"\"\"\n"
     ]
    }
   ],
   "source": [
    "a = latent_model.prob_sentence(['START', 'colorless', 'green', 'ideas', 'sleep', 'furiously', 'END'])\n",
    "b = latent_model.prob_sentence(['START', 'furiously', 'sleep', 'ideas', 'green', 'colorless', 'END'])\n",
    "print a\n",
    "print b\n",
    "print a/b"
   ]
  },
  {
   "cell_type": "code",
   "execution_count": 115,
   "metadata": {},
   "outputs": [
    {
     "data": {
      "image/png": "[encoded data removed]",
      "text/plain": [
       "<matplotlib.figure.Figure at 0x7faf66c5a490>"
      ]
     },
     "metadata": {},
     "output_type": "display_data"
    }
   ],
   "source": [
    "from matplotlib import pyplot as plt\n",
    "sents_len = [len(x) for x in brown.sents()]\n",
    "plt.title('empirical sentence len')\n",
    "plt.xlabel('sentence len')\n",
    "plt.ylabel('num of sentences')\n",
    "plt.hist(sents_len, bins=25, range=[0, 100])\n",
    "plt.show()"
   ]
  },
  {
   "cell_type": "code",
   "execution_count": 20,
   "metadata": {
    "collapsed": true
   },
   "outputs": [],
   "source": [
    "class UnigramMLEModel:\n",
    "    def __init__(self, dataset, debug=False):\n",
    "        self.debug = debug\n",
    "        self.dataset = dataset\n",
    "\n",
    "    def prob_word(self, word):\n",
    "        ret = self.dataset.unigram_freq[word] / self.dataset.total_word_cnt\n",
    "        assert ret != 0.0, word\n",
    "        return  ret\n",
    "\n",
    "    def log_prob_sentence(self, sentence):\n",
    "        return sum([math.log(self.prob_word(word)) for word in sentence])"
   ]
  },
  {
   "cell_type": "code",
   "execution_count": 48,
   "metadata": {},
   "outputs": [
    {
     "name": "stdout",
     "output_type": "stream",
     "text": [
      "-55.9237477771\n"
     ]
    }
   ],
   "source": [
    "uni_dataset = BrownDataset(include_start=False)\n",
    "uni_model = UnigramMLEModel(dataset)\n",
    "print uni_model.log_prob_sentence(['colorless', 'green', 'ideas', 'sleep', 'furiously', 'END'])"
   ]
  },
  {
   "cell_type": "code",
   "execution_count": 116,
   "metadata": {},
   "outputs": [
    {
     "data": {
      "image/png": "[encoded data removed]",
      "text/plain": [
       "<matplotlib.figure.Figure at 0x7faf64c63990>"
      ]
     },
     "metadata": {},
     "output_type": "display_data"
    }
   ],
   "source": [
    "x = uni_model.prob_word(u'END')\n",
    "model_sents_len = [(1-x)**n * x for n in range(100)]\n",
    "plt.title('theoritical sentence len')\n",
    "plt.xlabel('sentence len')\n",
    "plt.ylabel('probability')\n",
    "plt.bar(range(100), model_sents_len)\n",
    "plt.show()"
   ]
  },
  {
   "cell_type": "code",
   "execution_count": 78,
   "metadata": {
    "collapsed": true
   },
   "outputs": [],
   "source": [
    "class BigramMLEModel:\n",
    "    def __init__(self, dataset, debug=False):\n",
    "        self.debug = debug\n",
    "        self.dataset = dataset\n",
    "\n",
    "    def prob_word_given_ctxt(self, nextw, prevw):\n",
    "        ret = self.dataset.bigram_cnt[(prevw, nextw)] / self.dataset.unigram_freq[prevw]\n",
    "        if ret == 0:\n",
    "            print (\"bigram freq = \", prevw, nextw, dataset.bigram_cnt[(prevw, nextw)])\n",
    "            ret = 1e-10\n",
    "        return ret\n",
    "\n",
    "    def log_prob_sentence(self, sentence):\n",
    "        # Assuming START and END are included\n",
    "        log_p = 0\n",
    "        for i in range(len(sentence) - 1):\n",
    "            log_p += math.log(self.prob_word_given_ctxt(sentence[i + 1], sentence[i]))\n",
    "        return log_p"
   ]
  },
  {
   "cell_type": "code",
   "execution_count": 81,
   "metadata": {},
   "outputs": [],
   "source": [
    "bi_dataset = BrownDataset()\n",
    "bi_model = BigramMLEModel(bi_dataset)"
   ]
  },
  {
   "cell_type": "code",
   "execution_count": 82,
   "metadata": {},
   "outputs": [
    {
     "name": "stdout",
     "output_type": "stream",
     "text": [
      "('bigram freq = ', 'START', 'colorless', 0)\n",
      "('bigram freq = ', 'colorless', 'green', 0)\n",
      "('bigram freq = ', 'green', 'ideas', 0)\n",
      "('bigram freq = ', 'ideas', 'sleep', 0)\n",
      "('bigram freq = ', 'sleep', 'furiously', 0)\n",
      "('bigram freq = ', 'furiously', 'END', 0)\n"
     ]
    },
    {
     "data": {
      "text/plain": [
       "-138.15510557964274"
      ]
     },
     "execution_count": 82,
     "metadata": {},
     "output_type": "execute_result"
    }
   ],
   "source": [
    "bi_model.log_prob_sentence(['START', 'colorless', 'green', 'ideas', 'sleep', 'furiously', 'END'])"
   ]
  },
  {
   "cell_type": "code",
   "execution_count": 120,
   "metadata": {},
   "outputs": [
    {
     "name": "stdout",
     "output_type": "stream",
     "text": [
      "iteration =  0 -6.53150364026\n",
      "iteration =  1 -6.50352095199\n",
      "iteration =  2 -6.46898467936\n",
      "iteration =  3 -6.42446123722\n",
      "iteration =  4 -6.37753770704\n",
      "iteration =  5 -6.33828626763\n",
      "iteration =  6 -6.30708139529\n",
      "iteration =  7 -6.28008546003\n",
      "iteration =  8 -6.25527481155\n",
      "iteration =  9 -6.23137393405\n",
      "iteration =  10 -6.20757389222\n",
      "iteration =  11 -6.18424122158\n",
      "iteration =  12 -6.16323311778\n",
      "iteration =  13 -6.14588466722\n",
      "iteration =  14 -6.13182889679\n",
      "iteration =  15 -6.11999308317\n",
      "iteration =  16 -6.10962197897\n",
      "iteration =  17 -6.1013529376\n",
      "iteration =  18 -6.09498595367\n",
      "iteration =  19 -6.08965904458\n"
     ]
    }
   ],
   "source": [
    "latent_model_1 = LatentBigramModel(dataset, num_classes=3, num_iterations=20, debug=True)\n",
    "mlls1 = latent_model_1.em()"
   ]
  },
  {
   "cell_type": "code",
   "execution_count": 122,
   "metadata": {},
   "outputs": [
    {
     "name": "stdout",
     "output_type": "stream",
     "text": [
      "iteration =  0 -6.53138353432\n",
      "iteration =  1 -6.50540915243\n",
      "iteration =  2 -6.47412942329\n",
      "iteration =  3 -6.43047722329\n",
      "iteration =  4 -6.38453649874\n",
      "iteration =  5 -6.34558368713\n",
      "iteration =  6 -6.31004353369\n",
      "iteration =  7 -6.27645946721\n",
      "iteration =  8 -6.24554093327\n",
      "iteration =  9 -6.21715793636\n",
      "iteration =  10 -6.19111064069\n",
      "iteration =  11 -6.16810555289\n",
      "iteration =  12 -6.1490045734\n",
      "iteration =  13 -6.13386622707\n",
      "iteration =  14 -6.12229695884\n",
      "iteration =  15 -6.11327017277\n",
      "iteration =  16 -6.10573842076\n",
      "iteration =  17 -6.0991117589\n",
      "iteration =  18 -6.09328743565\n",
      "iteration =  19 -6.08842879165\n"
     ]
    }
   ],
   "source": [
    "latent_model_2 = LatentBigramModel(dataset, num_classes=3, num_iterations=20, debug=True)\n",
    "mlls2 = latent_model_2.em()"
   ]
  },
  {
   "cell_type": "code",
   "execution_count": 123,
   "metadata": {},
   "outputs": [
    {
     "name": "stdout",
     "output_type": "stream",
     "text": [
      "iteration =  0 -6.5188983431\n",
      "iteration =  1 -6.48895625391\n",
      "iteration =  2 -6.45496162059\n",
      "iteration =  3 -6.41542126236\n",
      "iteration =  4 -6.375901622\n",
      "iteration =  5 -6.33780429231\n",
      "iteration =  6 -6.30365622649\n",
      "iteration =  7 -6.27599210245\n",
      "iteration =  8 -6.25432405924\n",
      "iteration =  9 -6.23676153338\n",
      "iteration =  10 -6.22212518938\n",
      "iteration =  11 -6.20981044506\n",
      "iteration =  12 -6.19953969772\n",
      "iteration =  13 -6.19131242677\n",
      "iteration =  14 -6.18499537947\n",
      "iteration =  15 -6.1799732962\n",
      "iteration =  16 -6.17567531586\n",
      "iteration =  17 -6.17188497597\n",
      "iteration =  18 -6.16856175488\n",
      "iteration =  19 -6.16592954049\n"
     ]
    }
   ],
   "source": [
    "latent_model_3 = LatentBigramModel(dataset, num_classes=3, num_iterations=20, debug=True)\n",
    "mlls3 = latent_model_3.em()"
   ]
  },
  {
   "cell_type": "code",
   "execution_count": 124,
   "metadata": {},
   "outputs": [
    {
     "name": "stdout",
     "output_type": "stream",
     "text": [
      "[-6.531503640255804, -6.503520951987301, -6.4689846793642225, -6.4244612372170735, -6.377537707039707, -6.338286267633794, -6.307081395286071, -6.280085460028998, -6.255274811546983, -6.2313739340549565, -6.2075738922208314, -6.184241221583852, -6.16323311777931, -6.145884667223224, -6.131828896792912, -6.119993083165088, -6.1096219789744515, -6.101352937602872, -6.094985953666365, -6.089659044581166]\n"
     ]
    }
   ],
   "source": [
    "print mlls1"
   ]
  },
  {
   "cell_type": "code",
   "execution_count": 125,
   "metadata": {},
   "outputs": [
    {
     "name": "stdout",
     "output_type": "stream",
     "text": [
      "[-6.5313835343246565, -6.505409152434219, -6.474129423290645, -6.430477223292217, -6.384536498743343, -6.345583687129385, -6.310043533694446, -6.276459467205721, -6.245540933265708, -6.217157936357716, -6.191110640687326, -6.168105552886112, -6.149004573401932, -6.133866227069929, -6.122296958835761, -6.1132701727735945, -6.105738420760068, -6.0991117588965675, -6.093287435648416, -6.0884287916528]\n"
     ]
    }
   ],
   "source": [
    "print mlls2"
   ]
  },
  {
   "cell_type": "code",
   "execution_count": 126,
   "metadata": {},
   "outputs": [
    {
     "name": "stdout",
     "output_type": "stream",
     "text": [
      "[-6.51889834310279, -6.488956253907048, -6.454961620590298, -6.415421262357978, -6.375901622003498, -6.3378042923121995, -6.303656226487854, -6.275992102453064, -6.254324059235135, -6.2367615333827775, -6.222125189378138, -6.209810445058277, -6.199539697720396, -6.191312426766978, -6.18499537946734, -6.179973296199464, -6.175675315857544, -6.171884975969207, -6.168561754879815, -6.165929540489258]\n"
     ]
    }
   ],
   "source": [
    "print mlls3"
   ]
  },
  {
   "cell_type": "code",
   "execution_count": 128,
   "metadata": {},
   "outputs": [
    {
     "data": {
      "image/png": "[encoded data removed]",
      "text/plain": [
       "<matplotlib.figure.Figure at 0x7faf640e2490>"
      ]
     },
     "metadata": {},
     "output_type": "display_data"
    }
   ],
   "source": [
    "fig = plt.figure()\n",
    "plt.plot(mlls1)\n",
    "plt.plot(mlls2)\n",
    "plt.plot(mlls3)\n",
    "plt.title('Per iteration MLL')\n",
    "plt.xlabel('iteration')\n",
    "plt.ylabel('MLL')\n",
    "plt.show()"
   ]
  },
  {
   "cell_type": "code",
   "execution_count": 135,
   "metadata": {},
   "outputs": [
    {
     "name": "stdout",
     "output_type": "stream",
     "text": [
      "2.16751640791e-28\n",
      "7.35368965244e-36\n",
      "29475222.7841\n"
     ]
    }
   ],
   "source": [
    "a = latent_model_2.prob_sentence(['START', 'colorless', 'green', 'ideas', 'sleep', 'furiously', 'END'])\n",
    "b = latent_model_2.prob_sentence(['START', 'furiously', 'sleep', 'ideas', 'green', 'colorless', 'END'])\n",
    "print a\n",
    "print b\n",
    "print a/b"
   ]
  },
  {
   "cell_type": "code",
   "execution_count": 132,
   "metadata": {},
   "outputs": [
    {
     "name": "stdout",
     "output_type": "stream",
     "text": [
      "-63.6988006042\n",
      "-80.897861167\n",
      "0.787397833334\n"
     ]
    }
   ],
   "source": [
    "a = latent_model_2.log_prob_sentence(['START', 'colorless', 'green', 'ideas', 'sleep', 'furiously', 'END'])\n",
    "b = latent_model_2.log_prob_sentence(['START', 'furiously', 'sleep', 'ideas', 'green', 'colorless', 'END'])\n",
    "print a\n",
    "print b\n",
    "print a/b"
   ]
  },
  {
   "cell_type": "code",
   "execution_count": 134,
   "metadata": {},
   "outputs": [
    {
     "name": "stdout",
     "output_type": "stream",
     "text": [
      "1.02462928725e-31\n",
      "1.5640923193e-28\n",
      "0.00065509514663\n"
     ]
    }
   ],
   "source": [
    "a = latent_model_1.prob_sentence(['START', 'colorless', 'green', 'ideas', 'sleep', 'furiously', 'END'])\n",
    "b = latent_model_1.prob_sentence(['START', 'furiously', 'sleep', 'ideas', 'green', 'colorless', 'END'])\n",
    "print a\n",
    "print b\n",
    "print a/b"
   ]
  },
  {
   "cell_type": "code",
   "execution_count": 136,
   "metadata": {},
   "outputs": [
    {
     "name": "stdout",
     "output_type": "stream",
     "text": [
      "1.34198121097\n"
     ]
    }
   ],
   "source": [
    "a = latent_model_1.prob_sentence(['START', 'this', 'thing', \"ain't\", 'for', 'free', 'END'])\n",
    "b = latent_model_1.prob_sentence(['START', 'free', 'thing', \"ain't\", 'for', 'this', 'END'])\n",
    "print a/b"
   ]
  },
  {
   "cell_type": "code",
   "execution_count": 138,
   "metadata": {},
   "outputs": [
    {
     "name": "stdout",
     "output_type": "stream",
     "text": [
      "10.9628147941\n"
     ]
    }
   ],
   "source": [
    "a = latent_model_2.prob_sentence(['START', 'this', 'thing', \"ain't\", 'for', 'free', 'END'])\n",
    "b = latent_model_2.prob_sentence(['START', 'free', 'thing', \"ain't\", 'for', 'this', 'END'])\n",
    "print a/b"
   ]
  },
  {
   "cell_type": "code",
   "execution_count": 139,
   "metadata": {},
   "outputs": [
    {
     "name": "stdout",
     "output_type": "stream",
     "text": [
      "7.12647427918\n"
     ]
    }
   ],
   "source": [
    "a = latent_model_3.prob_sentence(['START', 'this', 'thing', \"ain't\", 'for', 'free', 'END'])\n",
    "b = latent_model_3.prob_sentence(['START', 'free', 'thing', \"ain't\", 'for', 'this', 'END'])\n",
    "print a/b"
   ]
  },
  {
   "cell_type": "code",
   "execution_count": 143,
   "metadata": {},
   "outputs": [
    {
     "name": "stdout",
     "output_type": "stream",
     "text": [
      "0.585807192054\n"
     ]
    }
   ],
   "source": [
    "a = latent_model_3.prob_sentence(\"START hope is the pillar of society END\".split( ))\n",
    "b = latent_model_3.prob_sentence(\"START pillar is the hope of society END\".split( ))\n",
    "print a/b"
   ]
  },
  {
   "cell_type": "code",
   "execution_count": 144,
   "metadata": {},
   "outputs": [
    {
     "name": "stdout",
     "output_type": "stream",
     "text": [
      "4.67959126927\n"
     ]
    }
   ],
   "source": [
    "a = latent_model_2.prob_sentence(\"START hope is the pillar of society END\".split( ))\n",
    "b = latent_model_2.prob_sentence(\"START pillar is the hope of society END\".split( ))\n",
    "print a/b"
   ]
  },
  {
   "cell_type": "code",
   "execution_count": 145,
   "metadata": {},
   "outputs": [
    {
     "name": "stdout",
     "output_type": "stream",
     "text": [
      "24.390631306\n"
     ]
    }
   ],
   "source": [
    "a = latent_model_1.prob_sentence(\"START hope is the pillar of society END\".split( ))\n",
    "b = latent_model_1.prob_sentence(\"START pillar is the hope of society END\".split( ))\n",
    "print a/b"
   ]
  },
  {
   "cell_type": "code",
   "execution_count": 146,
   "metadata": {},
   "outputs": [
    {
     "name": "stdout",
     "output_type": "stream",
     "text": [
      "2.48273452519\n"
     ]
    }
   ],
   "source": [
    "a = latent_model_3.prob_sentence(\"START society is the pillar of hope END\".split( ))\n",
    "b = latent_model_3.prob_sentence(\"START pillar is the hope of society END\".split( ))\n",
    "print a/b"
   ]
  },
  {
   "cell_type": "code",
   "execution_count": 147,
   "metadata": {},
   "outputs": [
    {
     "name": "stdout",
     "output_type": "stream",
     "text": [
      "17.4680360808\n"
     ]
    }
   ],
   "source": [
    "a = latent_model_2.prob_sentence(\"START society is the pillar of hope END\".split( ))\n",
    "b = latent_model_2.prob_sentence(\"START pillar is the hope of society END\".split( ))\n",
    "print a/b"
   ]
  },
  {
   "cell_type": "code",
   "execution_count": 148,
   "metadata": {},
   "outputs": [
    {
     "name": "stdout",
     "output_type": "stream",
     "text": [
      "6.04431071168\n"
     ]
    }
   ],
   "source": [
    "a = latent_model_1.prob_sentence(\"START society is the pillar of hope END\".split( ))\n",
    "b = latent_model_1.prob_sentence(\"START pillar is the hope of society END\".split( ))\n",
    "print a/b"
   ]
  },
  {
   "cell_type": "code",
   "execution_count": 149,
   "metadata": {},
   "outputs": [
    {
     "name": "stdout",
     "output_type": "stream",
     "text": [
      "0.686213089506\n"
     ]
    }
   ],
   "source": [
    "a = latent_model_3.prob_sentence(\"START satisfaction is the death of desire END\".split( ))\n",
    "b = latent_model_3.prob_sentence(\"START death is the satisfaction of desire END\".split( ))\n",
    "print a/b"
   ]
  },
  {
   "cell_type": "code",
   "execution_count": 150,
   "metadata": {},
   "outputs": [
    {
     "name": "stdout",
     "output_type": "stream",
     "text": [
      "0.425316598226\n"
     ]
    }
   ],
   "source": [
    "a = latent_model_2.prob_sentence(\"START satisfaction is the death of desire END\".split( ))\n",
    "b = latent_model_2.prob_sentence(\"START death is the satisfaction of desire END\".split( ))\n",
    "print a/b"
   ]
  },
  {
   "cell_type": "code",
   "execution_count": 151,
   "metadata": {},
   "outputs": [
    {
     "name": "stdout",
     "output_type": "stream",
     "text": [
      "0.792102919807\n"
     ]
    }
   ],
   "source": [
    "a = latent_model_1.prob_sentence(\"START satisfaction is the death of desire END\".split( ))\n",
    "b = latent_model_1.prob_sentence(\"START death is the satisfaction of desire END\".split( ))\n",
    "print a/b"
   ]
  },
  {
   "cell_type": "code",
   "execution_count": 152,
   "metadata": {},
   "outputs": [
    {
     "name": "stdout",
     "output_type": "stream",
     "text": [
      "0.214294883612\n"
     ]
    }
   ],
   "source": [
    "a = latent_model_3.prob_sentence(\"START satisfaction is the death of desire END\".split( ))\n",
    "b = latent_model_3.prob_sentence(\"START death is the desire of satisfaction END\".split( ))\n",
    "print a/b"
   ]
  },
  {
   "cell_type": "code",
   "execution_count": 156,
   "metadata": {},
   "outputs": [
    {
     "name": "stdout",
     "output_type": "stream",
     "text": [
      "10.1052835137\n"
     ]
    }
   ],
   "source": [
    "a = latent_model_2.prob_sentence(\"START satisfaction is the death of desire END\".split( ))\n",
    "b = latent_model_2.prob_sentence(\"START death is the desire of satisfaction END\".split( ))\n",
    "print a/b"
   ]
  },
  {
   "cell_type": "code",
   "execution_count": 155,
   "metadata": {},
   "outputs": [
    {
     "name": "stdout",
     "output_type": "stream",
     "text": [
      "0.669183623603\n"
     ]
    }
   ],
   "source": [
    "a = latent_model_1.prob_sentence(\"START satisfaction is the death of desire END\".split( ))\n",
    "b = latent_model_1.prob_sentence(\"START death is the desire of satisfaction END\".split( ))\n",
    "print a/b"
   ]
  },
  {
   "cell_type": "code",
   "execution_count": 157,
   "metadata": {},
   "outputs": [
    {
     "name": "stdout",
     "output_type": "stream",
     "text": [
      "1.09201110579\n"
     ]
    }
   ],
   "source": [
    "a = latent_model_3.prob_sentence(\"START desire is the death of satisfaction END\".split( ))\n",
    "b = latent_model_3.prob_sentence(\"START death is the satisfaction of desire END\".split( ))\n",
    "print a/b"
   ]
  },
  {
   "cell_type": "code",
   "execution_count": 158,
   "metadata": {},
   "outputs": [
    {
     "name": "stdout",
     "output_type": "stream",
     "text": [
      "0.00514241991898\n"
     ]
    }
   ],
   "source": [
    "a = latent_model_2.prob_sentence(\"START desire is the death of satisfaction END\".split( ))\n",
    "b = latent_model_2.prob_sentence(\"START death is the satisfaction of desire END\".split( ))\n",
    "print a/b"
   ]
  },
  {
   "cell_type": "code",
   "execution_count": 159,
   "metadata": {},
   "outputs": [
    {
     "name": "stdout",
     "output_type": "stream",
     "text": [
      "0.61520823218\n"
     ]
    }
   ],
   "source": [
    "a = latent_model_1.prob_sentence(\"START desire is the death of satisfaction END\".split( ))\n",
    "b = latent_model_1.prob_sentence(\"START death is the satisfaction of desire END\".split( ))\n",
    "print a/b"
   ]
  },
  {
   "cell_type": "code",
   "execution_count": 160,
   "metadata": {},
   "outputs": [
    {
     "name": "stdout",
     "output_type": "stream",
     "text": [
      "0.341020007338\n"
     ]
    }
   ],
   "source": [
    "a = latent_model_3.prob_sentence(\"START desire is the death of satisfaction END\".split( ))\n",
    "b = latent_model_3.prob_sentence(\"START death is the desire of satisfaction END\".split( ))\n",
    "print a/b"
   ]
  },
  {
   "cell_type": "code",
   "execution_count": 161,
   "metadata": {},
   "outputs": [
    {
     "name": "stdout",
     "output_type": "stream",
     "text": [
      "0.00514241991898\n"
     ]
    }
   ],
   "source": [
    "a = latent_model_2.prob_sentence(\"START desire is the death of satisfaction END\".split( ))\n",
    "b = latent_model_2.prob_sentence(\"START death is the satisfaction of desire END\".split( ))\n",
    "print a/b"
   ]
  },
  {
   "cell_type": "code",
   "execution_count": 162,
   "metadata": {},
   "outputs": [
    {
     "name": "stdout",
     "output_type": "stream",
     "text": [
      "0.61520823218\n"
     ]
    }
   ],
   "source": [
    "a = latent_model_1.prob_sentence(\"START desire is the death of satisfaction END\".split( ))\n",
    "b = latent_model_1.prob_sentence(\"START death is the satisfaction of desire END\".split( ))\n",
    "print a/b"
   ]
  },
  {
   "cell_type": "code",
   "execution_count": 166,
   "metadata": {},
   "outputs": [
    {
     "name": "stdout",
     "output_type": "stream",
     "text": [
      "619884246.243\n"
     ]
    }
   ],
   "source": [
    "a = latent_model_1.prob_sentence(\"START she loves chocolate END\".split( ))\n",
    "b = latent_model_1.prob_sentence(\"START chocolate loves she END\".split( ))\n",
    "print a/b"
   ]
  },
  {
   "cell_type": "code",
   "execution_count": null,
   "metadata": {
    "collapsed": true
   },
   "outputs": [],
   "source": []
  }
 ],
 "metadata": {
  "kernelspec": {
   "display_name": "Python 2",
   "language": "python",
   "name": "python2"
  },
  "language_info": {
   "codemirror_mode": {
    "name": "ipython",
    "version": 2
   },
   "file_extension": ".py",
   "mimetype": "text/x-python",
   "name": "python",
   "nbconvert_exporter": "python",
   "pygments_lexer": "ipython2",
   "version": "2.7.13"
  }
 },
 "nbformat": 4,
 "nbformat_minor": 2
}
